{
 "cells": [
  {
   "cell_type": "markdown",
   "metadata": {},
   "source": [
    "# Ejercicio Extra\n",
    "\n",
    "Responder las siguientes preguntas:\n",
    "\n",
    "¿Cuáles son los 5 vehículo que dan mayor rendimiento de combustible?\n",
    "\n",
    "¿Cuáles son los 5 vehículo que dan menor rendimiento?\n",
    "\n",
    "¿Cuál es el total de combustible gastado en cada mes?\n"
   ]
  },
  {
   "cell_type": "markdown",
   "metadata": {},
   "source": [
    "Se comienza por importar las librerías que se van a utilizar"
   ]
  },
  {
   "cell_type": "code",
   "execution_count": 8,
   "metadata": {},
   "outputs": [],
   "source": [
    "import numpy as np\n",
    "import pandas as pd"
   ]
  },
  {
   "cell_type": "markdown",
   "metadata": {},
   "source": [
    "Se carga el banco de datos que se va a utilizar:"
   ]
  },
  {
   "cell_type": "code",
   "execution_count": 9,
   "metadata": {},
   "outputs": [],
   "source": [
    "df = pd.read_csv('distanciaCombustible.csv')"
   ]
  },
  {
   "cell_type": "markdown",
   "metadata": {},
   "source": [
    "Se seleccionan las filas y columnas de interés para las primeras dos preguntas:"
   ]
  },
  {
   "cell_type": "code",
   "execution_count": 10,
   "metadata": {},
   "outputs": [
    {
     "name": "stderr",
     "output_type": "stream",
     "text": [
      "/home/eric/.conda/envs/diplomado/lib/python3.6/site-packages/ipykernel_launcher.py:1: DeprecationWarning: \n",
      ".ix is deprecated. Please use\n",
      ".loc for label based indexing or\n",
      ".iloc for positional indexing\n",
      "\n",
      "See the documentation here:\n",
      "http://pandas.pydata.org/pandas-docs/stable/indexing.html#ix-indexer-is-deprecated\n",
      "  \"\"\"Entry point for launching an IPython kernel.\n",
      "/home/eric/.conda/envs/diplomado/lib/python3.6/site-packages/ipykernel_launcher.py:2: DeprecationWarning: \n",
      ".ix is deprecated. Please use\n",
      ".loc for label based indexing or\n",
      ".iloc for positional indexing\n",
      "\n",
      "See the documentation here:\n",
      "http://pandas.pydata.org/pandas-docs/stable/indexing.html#ix-indexer-is-deprecated\n",
      "  \n"
     ]
    }
   ],
   "source": [
    "dist = df.ix[:,'distance']\n",
    "ltrs=df.ix[:,'litros']"
   ]
  },
  {
   "cell_type": "markdown",
   "metadata": {},
   "source": [
    "Se crea un nuevo rasgo del banco de datos para rendimiento:"
   ]
  },
  {
   "cell_type": "code",
   "execution_count": 11,
   "metadata": {},
   "outputs": [],
   "source": [
    "rend=dist/ltrs\n",
    "rendim={'rendimiento':rend}\n",
    "rend=pd.DataFrame(rendim,)\n",
    "df.reset_index()\n",
    "rend.reset_index()\n",
    "dfn=pd.concat([df,rend], axis=1)"
   ]
  },
  {
   "cell_type": "markdown",
   "metadata": {},
   "source": [
    "Se despliegan los 5 vehículos con el mayor rendimiento para resolver la primera pregunta:"
   ]
  },
  {
   "cell_type": "code",
   "execution_count": 12,
   "metadata": {},
   "outputs": [
    {
     "name": "stdout",
     "output_type": "stream",
     "text": [
      "vehiculos de mayor rendimiento.................\n",
      "        vehiculo       fecha  distance  litros  rendimiento\n",
      "6048  Vehiculo37  30/07/2018    12.496     2.5     4.998400\n",
      "2398  Vehiculo18  21/07/2018    52.304    10.5     4.981333\n",
      "3920  Vehiculo51  31/03/2018    47.200     9.5     4.968421\n",
      "3512  Vehiculo45  01/06/2018    42.000     8.5     4.941176\n",
      "3049  Vehiculo37  31/03/2018    32.104     6.5     4.939077\n"
     ]
    }
   ],
   "source": [
    "print('vehiculos de mayor rendimiento.................')\n",
    "x=dfn.sort_values(by='rendimiento' ,ascending=False)\n",
    "print(x.head())"
   ]
  },
  {
   "cell_type": "markdown",
   "metadata": {},
   "source": [
    "Se Despliegan ahora los 5 vehículos con el menor rendimiento para responder a la segunda pregunta:"
   ]
  },
  {
   "cell_type": "code",
   "execution_count": 13,
   "metadata": {},
   "outputs": [
    {
     "name": "stdout",
     "output_type": "stream",
     "text": [
      "vehiculos de menor rendimiento.................\n",
      "        vehiculo       fecha  distance  litros  rendimiento\n",
      "6898  Vehiculo62  12/07/2018    18.704     9.0     2.078222\n",
      "5118  Vehiculo66  23/05/2018   123.008    58.5     2.102701\n",
      "5100  Vehiculo66  04/05/2018   119.304    56.5     2.111575\n",
      "5121  Vehiculo66  27/05/2018    99.496    46.0     2.162957\n",
      "5105  Vehiculo66  09/05/2018   104.800    48.0     2.183333\n"
     ]
    }
   ],
   "source": [
    "print('vehiculos de menor rendimiento.................')\n",
    "x=dfn.sort_values(by='rendimiento')\n",
    "print(x.head())"
   ]
  },
  {
   "cell_type": "markdown",
   "metadata": {},
   "source": [
    "Se separan los valores de la fecha y son convertidos a formato tipo date"
   ]
  },
  {
   "cell_type": "code",
   "execution_count": 30,
   "metadata": {},
   "outputs": [
    {
     "name": "stdout",
     "output_type": "stream",
     "text": [
      "...........................................................\n",
      "    vehiculo      fecha  distance  litros  rendimiento  month\n",
      "0  Vehiculo1 2018-02-20   194.400    59.5     3.267227      2\n",
      "1  Vehiculo1 2018-02-21   190.000    64.0     2.968750      2\n",
      "2  Vehiculo1 2018-02-22   166.496    50.5     3.296950      2\n",
      "3  Vehiculo1 2018-02-23   190.104    59.0     3.222102      2\n",
      "4  Vehiculo1 2018-02-24   165.800    52.0     3.188462      2\n"
     ]
    }
   ],
   "source": [
    "print('...........................................................')\n",
    "dfn['fecha'] = pd.to_datetime(dfn['fecha'])\n",
    "dfn['month'] = pd.DatetimeIndex(df['fecha']).month\n",
    "print(dfn.head())"
   ]
  },
  {
   "cell_type": "markdown",
   "metadata": {},
   "source": [
    "Se filtra el dataframe por mes y se obtiene al sumatoria del campo litros para cada uno de los meses: "
   ]
  },
  {
   "cell_type": "code",
   "execution_count": 29,
   "metadata": {},
   "outputs": [
    {
     "name": "stdout",
     "output_type": "stream",
     "text": [
      "El total de litros consumidos en enero es: 6379.0\n",
      "El total de litros consumidos en febrero es: 34058.0\n",
      "El total de litros consumidos en marzo es: 54719.5\n",
      "El total de litros consumidos en abril es: 57985.0\n",
      "El total de litros consumidos en mayo es: 58959.5\n",
      "El total de litros consumidos en junio es: 55495.0\n",
      "El total de litros consumidos en julio es: 52728.5\n",
      "El total de litros consumidos en agosto es: 11546.0\n",
      "El total de litros consumidos en septiembre es: 13063.0\n",
      "El total de litros consumidos en octubre es: 11342.5\n",
      "El total de litros consumidos en noviembre es: 12344.5\n",
      "El total de litros consumidos en diciembre es: 12836.0\n"
     ]
    }
   ],
   "source": [
    "df1=dfn.loc[dfn['month'] == 1]\n",
    "print('El total de litros consumidos en enero es: '+str(df1['litros'].sum()))\n",
    "df1=dfn.loc[dfn['month'] == 2]\n",
    "print('El total de litros consumidos en febrero es: '+str(df1['litros'].sum()))\n",
    "df1=dfn.loc[dfn['month'] == 3]\n",
    "print('El total de litros consumidos en marzo es: '+str(df1['litros'].sum()))\n",
    "df1=dfn.loc[dfn['month'] == 4]\n",
    "print('El total de litros consumidos en abril es: '+str(df1['litros'].sum()))\n",
    "df1=dfn.loc[dfn['month'] == 5]\n",
    "print('El total de litros consumidos en mayo es: '+str(df1['litros'].sum()))\n",
    "df1=dfn.loc[dfn['month'] == 6]\n",
    "print('El total de litros consumidos en junio es: '+str(df1['litros'].sum()))\n",
    "df1=dfn.loc[dfn['month'] == 7]\n",
    "print('El total de litros consumidos en julio es: '+str(df1['litros'].sum()))\n",
    "df1=dfn.loc[dfn['month'] == 8]\n",
    "print('El total de litros consumidos en agosto es: '+str(df1['litros'].sum()))\n",
    "df1=dfn.loc[dfn['month'] == 9]\n",
    "print('El total de litros consumidos en septiembre es: '+str(df1['litros'].sum()))\n",
    "df1=dfn.loc[dfn['month'] == 10]\n",
    "print('El total de litros consumidos en octubre es: '+str(df1['litros'].sum()))\n",
    "df1=dfn.loc[dfn['month'] == 11]\n",
    "print('El total de litros consumidos en noviembre es: '+str(df1['litros'].sum()))\n",
    "df1=dfn.loc[dfn['month'] == 12]\n",
    "print('El total de litros consumidos en diciembre es: '+str(df1['litros'].sum()))"
   ]
  },
  {
   "cell_type": "code",
   "execution_count": null,
   "metadata": {},
   "outputs": [],
   "source": []
  }
 ],
 "metadata": {
  "kernelspec": {
   "display_name": "Python 3",
   "language": "python",
   "name": "python3"
  },
  "language_info": {
   "codemirror_mode": {
    "name": "ipython",
    "version": 3
   },
   "file_extension": ".py",
   "mimetype": "text/x-python",
   "name": "python",
   "nbconvert_exporter": "python",
   "pygments_lexer": "ipython3",
   "version": "3.6.6"
  }
 },
 "nbformat": 4,
 "nbformat_minor": 2
}
